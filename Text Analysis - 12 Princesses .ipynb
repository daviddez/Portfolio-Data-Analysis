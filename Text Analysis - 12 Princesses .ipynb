{
 "cells": [
  {
   "cell_type": "markdown",
   "metadata": {},
   "source": [
    "# Basic Text Analysis \n",
    "\n",
    "This workbook will use the Natural Language Toolkit Library (nltk) to look at the words and sentences in the 12dancingprincesses.txt file.  I will clean the text by removing all punctuation and stopwords('english') before pulling the top ten used file."
   ]
  },
  {
   "cell_type": "code",
   "execution_count": 54,
   "metadata": {},
   "outputs": [],
   "source": [
    "import nltk\n",
    "from nltk.tokenize import word_tokenize   # used to tokenize our text into a list\n",
    "from nltk.probability import FreqDist   # used to find frequency distribution of words\n",
    "from nltk.corpus import stopwords   # used to remove stopwords in our text\n",
    "\n",
    "from string import punctuation   # used to remove punctuation in our text"
   ]
  },
  {
   "cell_type": "code",
   "execution_count": 55,
   "metadata": {},
   "outputs": [],
   "source": [
    "# Open the text file, read and concatinate all lines, then place in lowercase\n",
    "with open('12dancingprincesses.txt') as f:\n",
    "    alldata = \" \".join(line.strip() for line in f).lower()\n",
    "\n",
    "#print(alldata)"
   ]
  },
  {
   "cell_type": "code",
   "execution_count": 56,
   "metadata": {},
   "outputs": [
    {
     "name": "stdout",
     "output_type": "stream",
     "text": [
      "1849\n"
     ]
    }
   ],
   "source": [
    "# Use the nltk library to tokenize all the words\n",
    "tknz_wct = word_tokenize(alldata)\n",
    "print(len(tknz_wct))"
   ]
  },
  {
   "cell_type": "code",
   "execution_count": 61,
   "metadata": {},
   "outputs": [],
   "source": [
    "# I need to add some additional punctuation marks, that are not part of the baseline\n",
    "punctuation = punctuation + \"’‘\""
   ]
  },
  {
   "cell_type": "code",
   "execution_count": 62,
   "metadata": {},
   "outputs": [
    {
     "name": "stdout",
     "output_type": "stream",
     "text": [
      "1614\n"
     ]
    }
   ],
   "source": [
    "# Remove all punctuation before moving forward, now that the data is in a list\n",
    "for item in tknz_wct:\n",
    "    if item in punctuation:\n",
    "        tknz_wct.remove(item)\n",
    "\n",
    "print(len(tknz_wct))"
   ]
  },
  {
   "cell_type": "code",
   "execution_count": 63,
   "metadata": {},
   "outputs": [
    {
     "name": "stdout",
     "output_type": "stream",
     "text": [
      "670\n"
     ]
    }
   ],
   "source": [
    "# Next, I will remove the english stopwords in the tokenized words\n",
    "eng_stopwords = stopwords.words('english')\n",
    "data = []\n",
    "for token in tknz_wct:\n",
    "    if token not in eng_stopwords:\n",
    "        data.append(token)\n",
    "print(len(data))"
   ]
  },
  {
   "cell_type": "code",
   "execution_count": 64,
   "metadata": {},
   "outputs": [
    {
     "data": {
      "text/plain": [
       "[('soldier', 19),\n",
       " ('princesses', 17),\n",
       " ('said', 16),\n",
       " ('king', 15),\n",
       " ('twelve', 11),\n",
       " ('went', 11),\n",
       " ('came', 10),\n",
       " ('eldest', 10),\n",
       " ('one', 7),\n",
       " ('night', 7)]"
      ]
     },
     "execution_count": 64,
     "metadata": {},
     "output_type": "execute_result"
    }
   ],
   "source": [
    "# Out of 670 words (over 900 stopwords were removed, these are the top ten used words after cleaning the text\n",
    "# Using the frequency distribution\n",
    "fd_data = FreqDist(data)\n",
    "fd_data.most_common(10)"
   ]
  },
  {
   "cell_type": "code",
   "execution_count": null,
   "metadata": {},
   "outputs": [],
   "source": []
  }
 ],
 "metadata": {
  "kernelspec": {
   "display_name": "Python 3",
   "language": "python",
   "name": "python3"
  },
  "language_info": {
   "codemirror_mode": {
    "name": "ipython",
    "version": 3
   },
   "file_extension": ".py",
   "mimetype": "text/x-python",
   "name": "python",
   "nbconvert_exporter": "python",
   "pygments_lexer": "ipython3",
   "version": "3.7.3"
  }
 },
 "nbformat": 4,
 "nbformat_minor": 2
}
